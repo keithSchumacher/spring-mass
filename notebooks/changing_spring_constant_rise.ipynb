{
 "cells": [
  {
   "cell_type": "code",
   "execution_count": 1,
   "metadata": {},
   "outputs": [],
   "source": [
    "import sys\n",
    "sys.path.insert(0,'..')\n",
    "\n",
    "from sktime_analysis import *\n",
    "\n",
    "import numpy as np\n",
    "import matplotlib.pyplot as plt\n",
    "\n",
    "from sklearn.model_selection import train_test_split\n",
    "from sklearn.pipeline import Pipeline\n",
    "\n",
    "from sktime.classification.compose import (\n",
    "    ColumnEnsembleClassifier\n",
    ")\n",
    "from sktime.classification.frequency_based import RandomIntervalSpectralForest\n",
    "from sktime.transformers.panel.compose import ColumnConcatenator"
   ]
  },
  {
   "cell_type": "code",
   "execution_count": 2,
   "metadata": {},
   "outputs": [
    {
     "name": "stdout",
     "output_type": "stream",
     "text": [
      "Test Size: 0.5\n",
      "Column Concatenation Score: 1.0\n",
      "Column Ensemble Score: 0.9925925925925926\n"
     ]
    }
   ],
   "source": [
    "n_samples = 3\n",
    "X, y = create_data_for_sktime(n_samples, spring_constants=False)\n",
    "\n",
    "n_experiments = 10\n",
    "\n",
    "#time series concatenation\n",
    "steps = [\n",
    "    (\"concatenate\", ColumnConcatenator()),\n",
    "    (\"classify\", RandomIntervalSpectralForest(n_estimators=100)),\n",
    "]\n",
    "clf_concat = Pipeline(steps)\n",
    "#column ensembling\n",
    "est = [\n",
    "        (\"RISE0\", RandomIntervalSpectralForest(n_estimators=100), [0]),\n",
    "        (\"RISE1\", RandomIntervalSpectralForest(n_estimators=100), [1]),\n",
    "    ]\n",
    "clf_ens = ColumnEnsembleClassifier(estimators=est)\n",
    "    \n",
    "\n",
    "test_size = .5\n",
    "scores = {'concat':np.empty(n_experiments), 'ens':np.empty(n_experiments)}\n",
    "for i in range(n_experiments):\n",
    "    X_train, X_test, y_train, y_test = train_test_split(X, y, test_size=test_size)\n",
    "    clf_concat.fit(X_train, y_train)\n",
    "    scores['concat'][i] = clf_concat.score(X_test, y_test)\n",
    "    clf_ens.fit(X_train, y_train)\n",
    "    scores['ens'][i] = clf_ens.score(X_test, y_test)\n",
    "    \n",
    "\n",
    "    \n",
    "print('Test Size:', test_size)\n",
    "print('Column Concatenation Score:', np.mean(scores['concat']))\n",
    "\n",
    "print('Column Ensemble Score:', np.mean(scores['ens']))"
   ]
  }
 ],
 "metadata": {
  "kernelspec": {
   "display_name": "Python 3",
   "language": "python",
   "name": "python3"
  },
  "language_info": {
   "codemirror_mode": {
    "name": "ipython",
    "version": 3
   },
   "file_extension": ".py",
   "mimetype": "text/x-python",
   "name": "python",
   "nbconvert_exporter": "python",
   "pygments_lexer": "ipython3",
   "version": "3.6.5"
  }
 },
 "nbformat": 4,
 "nbformat_minor": 4
}
